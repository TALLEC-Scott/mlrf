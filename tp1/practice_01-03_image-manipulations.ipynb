{
 "cells": [
  {
   "attachments": {},
   "cell_type": "markdown",
   "metadata": {},
   "source": [
    "EPITA 2023 MLRF practice_01-03_image-manipulations v2023-05-16_184922 by Joseph CHAZALON\n",
    "\n",
    "<div style=\"overflow: auto; padding: 10px; margin: 10px 0px\">\n",
    "<img alt=\"Creative Commons License\" src='img/CC-BY-4.0.png' style='float: left; margin-right: 20px'>\n",
    "    \n",
    "This work is licensed under a [Creative Commons Attribution 4.0 International License](http://creativecommons.org/licenses/by/4.0/).\n",
    "</div>"
   ]
  },
  {
   "cell_type": "markdown",
   "metadata": {},
   "source": [
    "# Practice session 1 part 3: Image manipulations\n",
    "\n",
    "Make sure you read and understand everything, and complete all the required actions.\n",
    "**Required actions** are preceded by the following sign:\n",
    "![Back to work!](img/work.png)"
   ]
  },
  {
   "cell_type": "markdown",
   "metadata": {},
   "source": [
    "Perform a couple checks…"
   ]
  },
  {
   "cell_type": "code",
   "execution_count": null,
   "metadata": {},
   "outputs": [],
   "source": [
    "# deactivate buggy jupyter completion\n",
    "%config Completer.use_jedi = False"
   ]
  },
  {
   "cell_type": "markdown",
   "metadata": {},
   "source": [
    "Import the modules we already know"
   ]
  },
  {
   "cell_type": "code",
   "execution_count": null,
   "metadata": {},
   "outputs": [],
   "source": [
    "import numpy as np\n",
    "import matplotlib.pyplot as plt\n",
    "%matplotlib inline"
   ]
  },
  {
   "cell_type": "markdown",
   "metadata": {},
   "source": [
    "## About OpenCV and scikit-image\n",
    "\n",
    "[OpenCV](https://opencv.org/) is an open-source library originally developped at Intel. Its documentation is available here: https://docs.opencv.org/. Its current version is 4.3.0. It is written in C++ and had bindings for Java, Python and Javascript. It contains a huge number of algorithms and techniques for many computer vision problems.\n",
    "\n",
    "We will use the Python wrapper and a pre-packaged Python package available here: https://pypi.org/project/opencv-python/. If necessary, it can be installed using pip:\n",
    "```shell\n",
    "pip install --user opencv-contrib-python-headless\n",
    "```\n",
    "\n",
    "OpenCV used to have a pretty readable documentation for the 2.x series, but the latest versions made it harder to develop Python code. However, its processing speed usually is fair and it is a good prototyping tool. Python samples usually a great source of inspiration; they are available under the [sample/python](https://github.com/opencv/opencv/tree/master/samples/python) source tree.\n",
    "\n",
    "\n",
    "[scikit-image](https://scikit-image.org/) is another open-source library moslty written in Python. It more recent but it gains power and it completes well OpenCV for some problems, even if it often is slower than OpenCV. Its API is also simpler to use in Python and its documentation (available here: http://scikit-image.org/docs/stable/) is very pleasant to read.\n",
    "If necessary, it can be installed using pip:\n",
    "```shell\n",
    "pip install --user scikit-image\n",
    "```\n",
    "\n",
    "We will go through the basic image manipulation tasks using both OpenCV and scikit-image.\n",
    "Later, you may need to use both of them so make sure to have a look at both.\n",
    "The good thing is that **they both heavily rely on NumPy to represent image data**, so an important part of what follows will actually be NumPy code!"
   ]
  },
  {
   "cell_type": "markdown",
   "metadata": {},
   "source": [
    "Import **new modules** we will now use."
   ]
  },
  {
   "cell_type": "code",
   "execution_count": null,
   "metadata": {},
   "outputs": [],
   "source": [
    "import cv2\n",
    "import skimage"
   ]
  },
  {
   "cell_type": "markdown",
   "metadata": {},
   "source": [
    "If the previous imports failed, you may now install the packages you need."
   ]
  },
  {
   "cell_type": "code",
   "execution_count": null,
   "metadata": {},
   "outputs": [],
   "source": [
    "# TODO do you need to install packages?\n"
   ]
  },
  {
   "cell_type": "markdown",
   "metadata": {},
   "source": [
    "### Similarities between OpenCV and scikit-image\n",
    "1. Raw image data is usable as a NumPy array.\n",
    "2. They have the same coordinate system: the origin (0, 0) is at top-left corner.\n",
    "3. The underlying buffer has the same shape: (rows, columns, channels).\n",
    "\n",
    "\n",
    "### Differences between OpenCV and scikit-image\n",
    "1. The most important difference is that OpenCV represents the underlying image buffer with channels in the BGR order, whereas scikit-image represents it in the RGB order.\n",
    "2. OpenCV represents images using a strict set of types (`uint8` or `CV_8U` for most operations) but sometimes accepts `uint16` / `CV_16U` or `float32` / `CV_32F` values. Expect strange error messages from the the wrapper complaining about incompatible types. scikit-image, on the other hand, tends to work better with floats, though it supports other NumPy types well.\n",
    "3. Many OpenCV functions require a `size` parameter (to resize an image, to create a structuring element, etc.) and this `size` usually is the reversed `shape` of the resulting NumPy object! **Just remember to be extra careful with the `size` parameter of OpenCV functions.**"
   ]
  },
  {
   "cell_type": "markdown",
   "metadata": {},
   "source": [
    "## Reading and writing images\n",
    "Let's get started!\n",
    "\n",
    "### scikit-image version\n",
    "You can read and write image using the [skimage.io module](http://scikit-image.org/docs/stable/api/skimage.io.html)."
   ]
  },
  {
   "cell_type": "markdown",
   "metadata": {},
   "source": [
    "<div style=\"overflow: auto; border-style: dotted; border-width: 1px; padding: 10px; margin: 10px 0px\">\n",
    "<img alt=\"work\" src='img/work.png' style='float: left; margin-right: 20px'>\n",
    "\n",
    "**Read the image `\"img/practice_01/sample_img.png\"` and display its shape and data type.**\n",
    "</div>"
   ]
  },
  {
   "cell_type": "code",
   "execution_count": null,
   "metadata": {},
   "outputs": [],
   "source": [
    "# TODO read image an display its shape and its dtype\n",
    "im_ski = None"
   ]
  },
  {
   "cell_type": "markdown",
   "metadata": {},
   "source": [
    "<div style=\"overflow: auto; border-style: dotted; border-width: 1px; padding: 10px; margin: 10px 0px\">\n",
    "<img alt=\"work\" src='img/work.png' style='float: left; margin-right: 20px'>\n",
    "\n",
    "**Now display the image using matplotlib.**\n",
    "</div>"
   ]
  },
  {
   "cell_type": "code",
   "execution_count": null,
   "metadata": {},
   "outputs": [],
   "source": [
    "# TODO display image (hint: use matplotlib's imshow function)\n",
    "plt.figure()\n",
    "# plt.???\n",
    "plt.show()"
   ]
  },
  {
   "cell_type": "markdown",
   "metadata": {},
   "source": [
    "<div style=\"overflow: auto; border-style: dotted; border-width: 1px; padding: 10px; margin: 10px 0px\">\n",
    "<img alt=\"work\" src='img/work.png' style='float: left; margin-right: 20px'>\n",
    "\n",
    "**Write the image under another name (maybe another format) at any place you like.**\n",
    "\n",
    "**(Optional) Use a shell escape to call the `identify` program and check it was created with the appropriate content.**\n",
    "</div>"
   ]
  },
  {
   "cell_type": "code",
   "execution_count": null,
   "metadata": {},
   "outputs": [],
   "source": [
    "# TODO\n",
    "# ..."
   ]
  },
  {
   "cell_type": "markdown",
   "metadata": {},
   "source": [
    "### OpenCV version\n",
    "OpenCV exposes `imread` and `imsave` directly in the main namespace."
   ]
  },
  {
   "cell_type": "markdown",
   "metadata": {},
   "source": [
    "<div style=\"overflow: auto; border-style: dotted; border-width: 1px; padding: 10px; margin: 10px 0px\">\n",
    "<img alt=\"work\" src='img/work.png' style='float: left; margin-right: 20px'>\n",
    "\n",
    "**Perform the same operations using OpenCV. What's wrong?**\n",
    "</div>"
   ]
  },
  {
   "cell_type": "code",
   "execution_count": null,
   "metadata": {},
   "outputs": [],
   "source": [
    "# TODO load image\n",
    "im_ocv = None\n",
    "# ..."
   ]
  },
  {
   "cell_type": "code",
   "execution_count": null,
   "metadata": {},
   "outputs": [],
   "source": [
    "# TODO display\n",
    "# plt..."
   ]
  },
  {
   "cell_type": "markdown",
   "metadata": {},
   "source": [
    "<div style=\"overflow: auto; border-style: dotted; border-width: 1px; padding: 10px; margin: 10px 0px\">\n",
    "<img alt=\"work\" src='img/work.png' style='float: left; margin-right: 20px'>\n",
    "\n",
    "**Complete the following explaination.**\n",
    "</div>"
   ]
  },
  {
   "cell_type": "markdown",
   "metadata": {},
   "source": [
    "Matplotlib expects images with channels in the ??? order, while OpenCV channels are stored in ... order."
   ]
  },
  {
   "cell_type": "markdown",
   "metadata": {},
   "source": [
    "OpenCV makes is easy to convert colors between many formats. The `cv2.cvtColor` function is the one you are looking for. Conversion code start with `cv2.COLOR_*`."
   ]
  },
  {
   "cell_type": "markdown",
   "metadata": {},
   "source": [
    "<div style=\"overflow: auto; border-style: dotted; border-width: 1px; padding: 10px; margin: 10px 0px\">\n",
    "<img alt=\"work\" src='img/work.png' style='float: left; margin-right: 20px'>\n",
    "\n",
    "**Convert the color of the image passed to the plotting function to correct its appearance.**\n",
    "</div>"
   ]
  },
  {
   "cell_type": "code",
   "execution_count": null,
   "metadata": {},
   "outputs": [],
   "source": [
    "# TODO new plot"
   ]
  },
  {
   "cell_type": "markdown",
   "metadata": {},
   "source": [
    "## Selecting image areas\n",
    "You can select image areas using any NumPy indexing, slicing or masking method you like."
   ]
  },
  {
   "cell_type": "markdown",
   "metadata": {},
   "source": [
    "<div style=\"overflow: auto; border-style: dotted; border-width: 1px; padding: 10px; margin: 10px 0px\">\n",
    "<img alt=\"work\" src='img/work.png' style='float: left; margin-right: 20px'>\n",
    "\n",
    "**Find the right selection code to erase the duck's head.**\n",
    "</div>"
   ]
  },
  {
   "cell_type": "code",
   "execution_count": null,
   "metadata": {},
   "outputs": [],
   "source": [
    "# TODO find the right selection code to erase the duck's head\n",
    "im_test = im_ski.copy()\n",
    "im_test[0,0] = 0\n",
    "plt.figure()\n",
    "plt.imshow(im_test)\n",
    "plt.title(\"head-less duck\")\n",
    "plt.show()"
   ]
  },
  {
   "cell_type": "markdown",
   "metadata": {},
   "source": [
    "Masking is a very powerful tool, allowing you to threshold images in a single line of code."
   ]
  },
  {
   "cell_type": "markdown",
   "metadata": {},
   "source": [
    "<div style=\"overflow: auto; border-style: dotted; border-width: 1px; padding: 10px; margin: 10px 0px\">\n",
    "<img alt=\"work\" src='img/work.png' style='float: left; margin-right: 20px'>\n",
    "\n",
    "**Conversely, display only the head of the duck.**\n",
    "</div>\n",
    "\n",
    "This shows you how to select regions of interest (ROIs) easily."
   ]
  },
  {
   "cell_type": "code",
   "execution_count": null,
   "metadata": {},
   "outputs": [],
   "source": [
    "#TODO display duck head\n"
   ]
  },
  {
   "cell_type": "markdown",
   "metadata": {},
   "source": [
    "<div style=\"overflow: auto; border-style: solid; border-color: red; border-width: 1px; padding: 10px; margin: 10px 0px\">\n",
    "<img alt=\"stop\" src='img/stop.png' style='float: left; margin-right: 20px'>\n",
    "    \n",
    "**Now you can realize that the $(x,y)$ notation from cartesian systems is misleading here: $x$ would be the second coordinate and $y$ the first one.**\n",
    "\n",
    "This is a common source of confusion and we recommend that you use $(row, col)$ notation instead, which better aligns with the row-major buffer storage in NumPy. Another advantage is that the \"heigth\" and \"width\" terms which are very commonly used make more sense in this convention.\n",
    "\n",
    "Another important thing to note is that the `shape` of some image therefore always is `(rows, columns, channels)` (for OpenCV, scikit-image and most of Python image libraries), which is equivalent to `(height, width, channels)`.\n",
    "Beware: image processing software often communicate the shape of an image in the $(width, height)$ convension (like screen resolutions we are used to), so **be extra careful when reading coordinates and shapes!**\n",
    "</div>"
   ]
  },
  {
   "cell_type": "markdown",
   "metadata": {},
   "source": [
    "## Masking"
   ]
  },
  {
   "cell_type": "markdown",
   "metadata": {},
   "source": [
    "<div style=\"overflow: auto; border-style: dotted; border-width: 1px; padding: 10px; margin: 10px 0px\">\n",
    "<img alt=\"work\" src='img/work.png' style='float: left; margin-right: 20px'>\n",
    "\n",
    "**Improve the code below to remove as much background as possible using a color mask.**\n",
    "</div>\n",
    "\n",
    "This will be a very naive segmentation, making good use of the properties of the image!\n",
    "\n",
    "*Tip 1: You can either choose to keep the foreground, or to remove the background.*\n",
    "\n",
    "*Tip 2: use `np.logical_and` or `&` to combine boolean masks.*"
   ]
  },
  {
   "cell_type": "code",
   "execution_count": null,
   "metadata": {},
   "outputs": [],
   "source": [
    "# TODO erase much of the background to segment the duck\n",
    "from functools import reduce\n",
    "im_test = im_ski.copy()\n",
    "plt.figure(figsize=(12,8))\n",
    "mask = ((im_test[...,0] >= 64) & (im_test[...,0] <= 255)  # FIXME edit those lines\n",
    "        & (im_test[...,1] >= 64) & (im_test[...,1] <= 255)\n",
    "        & (im_test[...,2] >= 64) & (im_test[...,2] <= 255))\n",
    "im_test[mask] = 0  # The mask is True for background pixels here, we erase selected pixels\n",
    "plt.subplot(1, 2, 1)\n",
    "plt.imshow(im_test)\n",
    "plt.axis('off')\n",
    "plt.title(\"background-less duck\")\n",
    "plt.subplot(1, 2, 2)\n",
    "plt.axis('off')\n",
    "plt.title(\"mask\")\n",
    "plt.imshow(mask, cmap='gray')"
   ]
  },
  {
   "cell_type": "markdown",
   "metadata": {},
   "source": [
    "It is (maybe) your first optimisation problem for image processing!\n",
    "\n",
    "What you did was trying to find good parameters (thresholds) in the color space:\n",
    "- low and high R values,\n",
    "- low and high G values,\n",
    "- low and high B values.\n",
    "\n",
    "Could you automate that process? Could you compute the optimal parameters in some way?"
   ]
  },
  {
   "cell_type": "markdown",
   "metadata": {},
   "source": [
    "<div style=\"overflow: auto; border-style: dotted; border-width: 1px; padding: 10px; margin: 10px 0px\">\n",
    "<img alt=\"work\" src='img/work.png' style='float: left; margin-right: 20px'>\n",
    "\n",
    "**Write down some ideas about how to automate the process of finding the appropriate thresholds.**\n",
    "</div>"
   ]
  },
  {
   "cell_type": "markdown",
   "metadata": {},
   "source": [
    "TODO throw some quick ideas here."
   ]
  },
  {
   "cell_type": "markdown",
   "metadata": {},
   "source": [
    "# Job done!\n",
    "We will learn new image processing functions on the go in the next stage: [Color histogram for *Twin it!* bubbles](practice_01-04_color-histogram.ipynb)."
   ]
  }
 ],
 "metadata": {
  "hide_input": false,
  "kernelspec": {
   "display_name": "Python 3",
   "language": "python",
   "name": "python3"
  },
  "language_info": {
   "codemirror_mode": {
    "name": "ipython",
    "version": 3
   },
   "file_extension": ".py",
   "mimetype": "text/x-python",
   "name": "python",
   "nbconvert_exporter": "python",
   "pygments_lexer": "ipython3",
   "version": "3.8.5"
  },
  "varInspector": {
   "cols": {
    "lenName": 16,
    "lenType": 16,
    "lenVar": 40
   },
   "kernels_config": {
    "python": {
     "delete_cmd_postfix": "",
     "delete_cmd_prefix": "del ",
     "library": "var_list.py",
     "varRefreshCmd": "print(var_dic_list())"
    },
    "r": {
     "delete_cmd_postfix": ") ",
     "delete_cmd_prefix": "rm(",
     "library": "var_list.r",
     "varRefreshCmd": "cat(var_dic_list()) "
    }
   },
   "types_to_exclude": [
    "module",
    "function",
    "builtin_function_or_method",
    "instance",
    "_Feature"
   ],
   "window_display": false
  }
 },
 "nbformat": 4,
 "nbformat_minor": 2
}
